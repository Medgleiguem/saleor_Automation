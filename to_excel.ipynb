{
 "cells": [
  {
   "cell_type": "code",
   "execution_count": 7,
   "id": "6df41f4a",
   "metadata": {},
   "outputs": [],
   "source": [
    "import pandas as pd\n",
    "import json"
   ]
  },
  {
   "cell_type": "code",
   "execution_count": 8,
   "id": "eedfb18e",
   "metadata": {},
   "outputs": [],
   "source": [
    "with open(\"./output/products.json\", \"r\", encoding=\"utf-8\") as f:\n",
    "    data = json.load(f)"
   ]
  },
  {
   "cell_type": "code",
   "execution_count": 9,
   "id": "b5556546",
   "metadata": {},
   "outputs": [],
   "source": [
    "def extract_description(desc):\n",
    "    try:\n",
    "        desc_json = json.loads(desc)  # parse stringified JSON\n",
    "        blocks = desc_json.get(\"blocks\", [])\n",
    "        texts = [block[\"data\"].get(\"text\", \"\") for block in blocks]\n",
    "        return \" \".join(texts).replace(\"\\u2022\", \"•\")  # keep bullet points clean\n",
    "    except Exception:\n",
    "        return desc"
   ]
  },
  {
   "cell_type": "code",
   "execution_count": 10,
   "id": "bb30fd05",
   "metadata": {},
   "outputs": [],
   "source": [
    "rows = []\n",
    "for product in data:\n",
    "    base_info = {\n",
    "        \"product_id\": product[\"id\"],\n",
    "        \"product_name\": product[\"name\"],\n",
    "        \"category_id\": product[\"category_id\"],\n",
    "        \"product_type_id\": product[\"product_type_id\"],\n",
    "        \"description\": extract_description(product[\"description\"]),\n",
    "    }\n",
    "    \n",
    "    for variant in product.get(\"variants\", []):\n",
    "        for listing in variant.get(\"channelListings\", []):\n",
    "            row = base_info.copy()\n",
    "            row.update({\n",
    "                \"variant_id\": variant[\"variant_id\"],\n",
    "                \"variant_name\": variant[\"variant_name\"],\n",
    "                \"channel_id\": listing[\"channel_id\"],\n",
    "                \"channel_name\": listing[\"channel_name\"],\n",
    "                \"currency\": listing[\"currency\"],\n",
    "                \"price\": listing[\"price\"],\n",
    "            })\n",
    "            rows.append(row)"
   ]
  },
  {
   "cell_type": "code",
   "execution_count": 11,
   "id": "2149a0a4",
   "metadata": {},
   "outputs": [],
   "source": [
    "df = pd.DataFrame(rows)"
   ]
  },
  {
   "cell_type": "code",
   "execution_count": 12,
   "id": "328ceabb",
   "metadata": {},
   "outputs": [
    {
     "name": "stdout",
     "output_type": "stream",
     "text": [
      "✅ Excel file saved as ./output/list_of_products.xlsx\n"
     ]
    }
   ],
   "source": [
    "output_file = \"./output/list_of_products.xlsx\"\n",
    "df.to_excel(output_file, index=False)\n",
    "\n",
    "print(f\"✅ Excel file saved as {output_file}\")"
   ]
  }
 ],
 "metadata": {
  "kernelspec": {
   "display_name": "venv",
   "language": "python",
   "name": "python3"
  },
  "language_info": {
   "codemirror_mode": {
    "name": "ipython",
    "version": 3
   },
   "file_extension": ".py",
   "mimetype": "text/x-python",
   "name": "python",
   "nbconvert_exporter": "python",
   "pygments_lexer": "ipython3",
   "version": "3.12.3"
  }
 },
 "nbformat": 4,
 "nbformat_minor": 5
}
